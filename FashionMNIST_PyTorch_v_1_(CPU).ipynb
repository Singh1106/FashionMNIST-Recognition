{
  "nbformat": 4,
  "nbformat_minor": 0,
  "metadata": {
    "colab": {
      "name": "FashionMNIST_PyTorch_v_1 (CPU).ipynb",
      "provenance": []
    },
    "kernelspec": {
      "name": "python3",
      "display_name": "Python 3"
    },
    "accelerator": "GPU"
  },
  "cells": [
    {
      "cell_type": "code",
      "metadata": {
        "id": "GoWRoZ2wgCdp",
        "colab_type": "code",
        "colab": {}
      },
      "source": [
        "import torch\n",
        "from torch import nn,optim\n",
        "import torch.nn.functional as F\n",
        "import torchvision\n",
        "import numpy as np\n",
        "import matplotlib.pyplot as plt\n",
        "import seaborn as sns\n",
        "import pandas as pd"
      ],
      "execution_count": 0,
      "outputs": []
    },
    {
      "cell_type": "code",
      "metadata": {
        "id": "_dhdlblEgjov",
        "colab_type": "code",
        "colab": {}
      },
      "source": [
        "train_loader = torch.utils.data.DataLoader(\n",
        "  torchvision.datasets.FashionMNIST('/files/', train=True, download=True,\n",
        "                             transform=torchvision.transforms.Compose([\n",
        "                               torchvision.transforms.ToTensor(),\n",
        "                               torchvision.transforms.Normalize(\n",
        "                                 (0.1307,), (0.3081,))\n",
        "                             ])),\n",
        "  batch_size=64, shuffle=True)\n",
        "\n",
        "test_loader = torch.utils.data.DataLoader(\n",
        "  torchvision.datasets.FashionMNIST('/files/', train=False, download=True,\n",
        "                             transform=torchvision.transforms.Compose([\n",
        "                               torchvision.transforms.ToTensor(),\n",
        "                               torchvision.transforms.Normalize(\n",
        "                                 (0.1307,), (0.3081,))\n",
        "                             ])),\n",
        "  batch_size=300, shuffle=True)"
      ],
      "execution_count": 0,
      "outputs": []
    },
    {
      "cell_type": "code",
      "metadata": {
        "id": "lgWA5_N3gssj",
        "colab_type": "code",
        "outputId": "a0170ab7-13aa-45ca-b903-5499b768eb87",
        "colab": {
          "base_uri": "https://localhost:8080/",
          "height": 298
        }
      },
      "source": [
        "train_examples=enumerate(train_loader)\n",
        "batch_idx,(train_examples_data,train_examples_targets)=next(train_examples)\n",
        "train_examples_data1=train_examples_data.view(64,1,784)\n",
        "\n",
        "number=56\n",
        "plt.imshow(train_examples_data[number][0])\n",
        "plt.title(train_examples_targets[number])\n",
        "print(len(train_examples_targets))"
      ],
      "execution_count": 0,
      "outputs": [
        {
          "output_type": "stream",
          "text": [
            "64\n"
          ],
          "name": "stdout"
        },
        {
          "output_type": "display_data",
          "data": {
            "image/png": "[encoded data removed]",
            "text/plain": [
              "<Figure size 432x288 with 1 Axes>"
            ]
          },
          "metadata": {
            "tags": [],
            "needs_background": "light"
          }
        }
      ]
    },
    {
      "cell_type": "code",
      "metadata": {
        "id": "mo5XmjxKxZ0d",
        "colab_type": "code",
        "colab": {}
      },
      "source": [
        "# 0 T-shirt/top\n",
        "# 1 Trouser\n",
        "# 2 Pullover\n",
        "# 3 Dress\n",
        "# 4 Coat\n",
        "# 5 Sandal\n",
        "# 6 Shirt\n",
        "# 7 Sneaker\n",
        "# 8 Bag\n",
        "# 9 Ankle boot"
      ],
      "execution_count": 0,
      "outputs": []
    },
    {
      "cell_type": "code",
      "metadata": {
        "id": "AcTUsm22_8XG",
        "colab_type": "code",
        "colab": {}
      },
      "source": [
        "class Everything1(nn.Module):\n",
        "  def __init__(self):\n",
        "    super(Everything1, self).__init__()\n",
        "    self.hidden1=nn.Linear(784,512)\n",
        "    self.hidden2=nn.Linear(512,256)\n",
        "    self.hidden3=nn.Linear(256,64)\n",
        "    self.output=nn.Linear(64,10)\n",
        "  def forward(self,x):\n",
        "    x=F.relu(self.hidden1(x))\n",
        "    x=F.relu(self.hidden2(x))\n",
        "    x=F.relu(self.hidden3(x))\n",
        "    x=F.log_softmax(self.output(x),dim=1)\n",
        "    #x=self.output(x)\n",
        "    return x\n",
        "class Everything2(nn.Module):\n",
        "  def __init__(self):\n",
        "    super(Everything2, self).__init__()\n",
        "    self.hidden1=nn.Linear(784,512)\n",
        "    self.hidden2=nn.Linear(512,256)\n",
        "    self.hidden3=nn.Linear(256,64)\n",
        "    self.output=nn.Linear(64,10)\n",
        "    self.dropout=nn.Dropout(p=0.2)\n",
        "  def forward(self,x):\n",
        "    x=self.dropout(F.relu(self.hidden1(x)))\n",
        "    x=self.dropout(F.relu(self.hidden2(x)))\n",
        "    x=self.dropout(F.relu(self.hidden3(x)))\n",
        "    x=F.log_softmax(self.output(x),dim=1)\n",
        "    #x=self.output(x)\n",
        "    return x"
      ],
      "execution_count": 0,
      "outputs": []
    },
    {
      "cell_type": "code",
      "metadata": {
        "id": "W9gc7iHEACZB",
        "colab_type": "code",
        "colab": {}
      },
      "source": [
        "model1=Everything1()\n",
        "model2=Everything2()"
      ],
      "execution_count": 0,
      "outputs": []
    },
    {
      "cell_type": "code",
      "metadata": {
        "id": "EqNGRlaXC7-T",
        "colab_type": "code",
        "outputId": "9a304829-9c31-4548-e7e9-a3895cf24ef3",
        "colab": {
          "base_uri": "https://localhost:8080/",
          "height": 1000
        }
      },
      "source": [
        "epochs=30\n",
        "optimizer=optim.SGD(model1.parameters(),lr=0.04)\n",
        "criterion=nn.NLLLoss()\n",
        "loss_at_epoch_training=np.array([])\n",
        "loss_at_epoch_testing=np.array([])\n",
        "for i in range(epochs):\n",
        "  training_loss=0\n",
        "  testing_loss=0\n",
        "  for images,labels in train_loader:\n",
        "\n",
        "    train_examples_data1=images.view(images.shape[0],784)\n",
        "    optimizer.zero_grad()\n",
        "\n",
        "    logProbs=model1(train_examples_data1)\n",
        "\n",
        "    loss=criterion(logProbs,labels)\n",
        "\n",
        "    training_loss+=loss\n",
        "\n",
        "    loss.backward()\n",
        "    \n",
        "    optimizer.step()\n",
        "  with torch.no_grad():\n",
        "    for images,labels in test_loader:\n",
        "      test_examples_data2=images.view(images.shape[0],784)\n",
        "\n",
        "      logProbs=model1(test_examples_data2)\n",
        "        \n",
        "      loss=criterion(logProbs,labels)\n",
        "\n",
        "      testing_loss+=loss\n",
        "  training_loss=training_loss/len(train_loader)\n",
        "  testing_loss=testing_loss/len(test_loader)\n",
        "  print(\"training_loss\",training_loss)\n",
        "  print(\"testing_loss\",testing_loss)\n",
        "  loss_at_epoch_training=np.append(loss_at_epoch_training,training_loss.detach().numpy())\n",
        "  loss_at_epoch_testing=np.append(loss_at_epoch_testing,testing_loss.numpy())"
      ],
      "execution_count": 0,
      "outputs": [
        {
          "output_type": "stream",
          "text": [
            "training_loss tensor(0.6856, grad_fn=<DivBackward0>)\n",
            "testing_loss tensor(0.5266)\n",
            "training_loss tensor(0.4099, grad_fn=<DivBackward0>)\n",
            "testing_loss tensor(0.4165)\n",
            "training_loss tensor(0.3609, grad_fn=<DivBackward0>)\n",
            "testing_loss tensor(0.3841)\n",
            "training_loss tensor(0.3296, grad_fn=<DivBackward0>)\n",
            "testing_loss tensor(0.3837)\n",
            "training_loss tensor(0.3071, grad_fn=<DivBackward0>)\n",
            "testing_loss tensor(0.3818)\n",
            "training_loss tensor(0.2885, grad_fn=<DivBackward0>)\n",
            "testing_loss tensor(0.3716)\n",
            "training_loss tensor(0.2741, grad_fn=<DivBackward0>)\n",
            "testing_loss tensor(0.3518)\n",
            "training_loss tensor(0.2590, grad_fn=<DivBackward0>)\n",
            "testing_loss tensor(0.3502)\n",
            "training_loss tensor(0.2468, grad_fn=<DivBackward0>)\n",
            "testing_loss tensor(0.3715)\n",
            "training_loss tensor(0.2359, grad_fn=<DivBackward0>)\n",
            "testing_loss tensor(0.3706)\n",
            "training_loss tensor(0.2266, grad_fn=<DivBackward0>)\n",
            "testing_loss tensor(0.3327)\n",
            "training_loss tensor(0.2157, grad_fn=<DivBackward0>)\n",
            "testing_loss tensor(0.3483)\n",
            "training_loss tensor(0.2064, grad_fn=<DivBackward0>)\n",
            "testing_loss tensor(0.3621)\n",
            "training_loss tensor(0.1996, grad_fn=<DivBackward0>)\n",
            "testing_loss tensor(0.4181)\n",
            "training_loss tensor(0.1897, grad_fn=<DivBackward0>)\n",
            "testing_loss tensor(0.3305)\n",
            "training_loss tensor(0.1816, grad_fn=<DivBackward0>)\n",
            "testing_loss tensor(0.4276)\n",
            "training_loss tensor(0.1756, grad_fn=<DivBackward0>)\n",
            "testing_loss tensor(0.3424)\n",
            "training_loss tensor(0.1691, grad_fn=<DivBackward0>)\n",
            "testing_loss tensor(0.3494)\n",
            "training_loss tensor(0.1618, grad_fn=<DivBackward0>)\n",
            "testing_loss tensor(0.3348)\n",
            "training_loss tensor(0.1551, grad_fn=<DivBackward0>)\n",
            "testing_loss tensor(0.3406)\n",
            "training_loss tensor(0.1498, grad_fn=<DivBackward0>)\n",
            "testing_loss tensor(0.5552)\n",
            "training_loss tensor(0.1433, grad_fn=<DivBackward0>)\n",
            "testing_loss tensor(0.4131)\n",
            "training_loss tensor(0.1371, grad_fn=<DivBackward0>)\n",
            "testing_loss tensor(0.3495)\n",
            "training_loss tensor(0.1352, grad_fn=<DivBackward0>)\n",
            "testing_loss tensor(0.3910)\n",
            "training_loss tensor(0.1293, grad_fn=<DivBackward0>)\n",
            "testing_loss tensor(0.4256)\n",
            "training_loss tensor(0.1241, grad_fn=<DivBackward0>)\n",
            "testing_loss tensor(0.4206)\n",
            "training_loss tensor(0.1187, grad_fn=<DivBackward0>)\n",
            "testing_loss tensor(0.3856)\n",
            "training_loss tensor(0.1152, grad_fn=<DivBackward0>)\n",
            "testing_loss tensor(0.3842)\n",
            "training_loss tensor(0.1084, grad_fn=<DivBackward0>)\n",
            "testing_loss tensor(0.4343)\n",
            "training_loss tensor(0.1031, grad_fn=<DivBackward0>)\n",
            "testing_loss tensor(0.3944)\n"
          ],
          "name": "stdout"
        }
      ]
    },
    {
      "cell_type": "code",
      "metadata": {
        "id": "bwXpbUZMti4C",
        "colab_type": "code",
        "outputId": "8f3e2af1-2bee-475b-e4cd-8d5c8198b812",
        "colab": {
          "base_uri": "https://localhost:8080/",
          "height": 265
        }
      },
      "source": [
        "plt.plot(loss_at_epoch_training, label=\"training\")\n",
        "plt.plot(loss_at_epoch_testing, label=\"testing\")\n",
        "plt.show()"
      ],
      "execution_count": 0,
      "outputs": [
        {
          "output_type": "display_data",
          "data": {
            "image/png": "[encoded data removed]",
            "text/plain": [
              "<Figure size 432x288 with 1 Axes>"
            ]
          },
          "metadata": {
            "tags": [],
            "needs_background": "light"
          }
        }
      ]
    },
    {
      "cell_type": "code",
      "metadata": {
        "id": "B2SiC06zucgM",
        "colab_type": "code",
        "outputId": "52bf4e1e-fdf6-426c-c8c6-1013530bc0d4",
        "colab": {
          "base_uri": "https://localhost:8080/",
          "height": 1000
        }
      },
      "source": [
        "epochs=30\n",
        "optimizer=optim.SGD(model2.parameters(),lr=0.04)\n",
        "criterion=nn.NLLLoss()\n",
        "loss_at_epoch_training=np.array([])\n",
        "loss_at_epoch_testing=np.array([])\n",
        "for i in range(epochs):\n",
        "  training_loss=0\n",
        "  testing_loss=0\n",
        "  for images,labels in train_loader:\n",
        "\n",
        "    train_examples_data1=images.view(images.shape[0],784)\n",
        "    optimizer.zero_grad()\n",
        "\n",
        "    logProbs=model2(train_examples_data1)\n",
        "\n",
        "    loss=criterion(logProbs,labels)\n",
        "\n",
        "    training_loss+=loss\n",
        "\n",
        "    loss.backward()\n",
        "    \n",
        "    optimizer.step()\n",
        "  with torch.no_grad():\n",
        "    model.eval()\n",
        "    for images,labels in test_loader:\n",
        "      test_examples_data2=images.view(images.shape[0],784)\n",
        "\n",
        "      logProbs=model2(test_examples_data2)\n",
        "        \n",
        "      loss=criterion(logProbs,labels)\n",
        "\n",
        "      testing_loss+=loss\n",
        "  model.train()\n",
        "  training_loss=training_loss/len(train_loader)\n",
        "  testing_loss=testing_loss/len(test_loader)\n",
        "  print(\"training_loss\",training_loss)\n",
        "  print(\"testing_loss\",testing_loss)\n",
        "  loss_at_epoch_training=np.append(loss_at_epoch_training,training_loss.detach().numpy())\n",
        "  loss_at_epoch_testing=np.append(loss_at_epoch_testing,testing_loss.numpy())"
      ],
      "execution_count": 0,
      "outputs": [
        {
          "output_type": "stream",
          "text": [
            "training_loss tensor(0.1800, grad_fn=<DivBackward0>)\n",
            "testing_loss tensor(0.3800)\n",
            "training_loss tensor(0.1776, grad_fn=<DivBackward0>)\n",
            "testing_loss tensor(0.3722)\n",
            "training_loss tensor(0.1729, grad_fn=<DivBackward0>)\n",
            "testing_loss tensor(0.3741)\n",
            "training_loss tensor(0.1701, grad_fn=<DivBackward0>)\n",
            "testing_loss tensor(0.3644)\n",
            "training_loss tensor(0.1698, grad_fn=<DivBackward0>)\n",
            "testing_loss tensor(0.3693)\n",
            "training_loss tensor(0.1644, grad_fn=<DivBackward0>)\n",
            "testing_loss tensor(0.3738)\n",
            "training_loss tensor(0.1640, grad_fn=<DivBackward0>)\n",
            "testing_loss tensor(0.3817)\n",
            "training_loss tensor(0.1593, grad_fn=<DivBackward0>)\n",
            "testing_loss tensor(0.3792)\n",
            "training_loss tensor(0.1562, grad_fn=<DivBackward0>)\n",
            "testing_loss tensor(0.3732)\n",
            "training_loss tensor(0.1551, grad_fn=<DivBackward0>)\n",
            "testing_loss tensor(0.3888)\n",
            "training_loss tensor(0.1517, grad_fn=<DivBackward0>)\n",
            "testing_loss tensor(0.4193)\n",
            "training_loss tensor(0.1496, grad_fn=<DivBackward0>)\n",
            "testing_loss tensor(0.3870)\n",
            "training_loss tensor(0.1471, grad_fn=<DivBackward0>)\n",
            "testing_loss tensor(0.3782)\n",
            "training_loss tensor(0.1424, grad_fn=<DivBackward0>)\n",
            "testing_loss tensor(0.3865)\n",
            "training_loss tensor(0.1441, grad_fn=<DivBackward0>)\n",
            "testing_loss tensor(0.4014)\n",
            "training_loss tensor(0.1409, grad_fn=<DivBackward0>)\n",
            "testing_loss tensor(0.3811)\n",
            "training_loss tensor(0.1364, grad_fn=<DivBackward0>)\n",
            "testing_loss tensor(0.4050)\n",
            "training_loss tensor(0.1376, grad_fn=<DivBackward0>)\n",
            "testing_loss tensor(0.3936)\n",
            "training_loss tensor(0.1354, grad_fn=<DivBackward0>)\n",
            "testing_loss tensor(0.4063)\n",
            "training_loss tensor(0.1316, grad_fn=<DivBackward0>)\n",
            "testing_loss tensor(0.4563)\n",
            "training_loss tensor(0.1325, grad_fn=<DivBackward0>)\n",
            "testing_loss tensor(0.4055)\n",
            "training_loss tensor(0.1288, grad_fn=<DivBackward0>)\n",
            "testing_loss tensor(0.4145)\n",
            "training_loss tensor(0.1290, grad_fn=<DivBackward0>)\n",
            "testing_loss tensor(0.3990)\n",
            "training_loss tensor(0.1271, grad_fn=<DivBackward0>)\n",
            "testing_loss tensor(0.4086)\n",
            "training_loss tensor(0.1247, grad_fn=<DivBackward0>)\n",
            "testing_loss tensor(0.4083)\n",
            "training_loss tensor(0.1217, grad_fn=<DivBackward0>)\n",
            "testing_loss tensor(0.4053)\n",
            "training_loss tensor(0.1207, grad_fn=<DivBackward0>)\n",
            "testing_loss tensor(0.4271)\n",
            "training_loss tensor(0.1197, grad_fn=<DivBackward0>)\n",
            "testing_loss tensor(0.4601)\n",
            "training_loss tensor(0.1160, grad_fn=<DivBackward0>)\n",
            "testing_loss tensor(0.4310)\n",
            "training_loss tensor(0.1155, grad_fn=<DivBackward0>)\n",
            "testing_loss tensor(0.4398)\n"
          ],
          "name": "stdout"
        }
      ]
    },
    {
      "cell_type": "code",
      "metadata": {
        "id": "d-ZdoAZXwr05",
        "colab_type": "code",
        "outputId": "30ddfb85-9d29-4a28-9af2-a95e4d5d236d",
        "colab": {
          "base_uri": "https://localhost:8080/",
          "height": 265
        }
      },
      "source": [
        "plt.plot(loss_at_epoch_training, label=\"training\")\n",
        "plt.plot(loss_at_epoch_testing, label=\"testing\")\n",
        "plt.show()"
      ],
      "execution_count": 0,
      "outputs": [
        {
          "output_type": "display_data",
          "data": {
            "image/png": "[encoded data removed]",
            "text/plain": [
              "<Figure size 432x288 with 1 Axes>"
            ]
          },
          "metadata": {
            "tags": [],
            "needs_background": "light"
          }
        }
      ]
    },
    {
      "cell_type": "code",
      "metadata": {
        "id": "k3ydWVLsAGUI",
        "colab_type": "code",
        "colab": {}
      },
      "source": [
        "def PrintProbOutput(data):\n",
        "  data=data.detach().numpy()\n",
        "  x=torch.Tensor(range(0,10))\n",
        "  print (data)\n",
        "  print (x)\n",
        "  #plt.bar(x.view(1,10),Probs)\n",
        "  #sns.distplot(a=Probs,hist=True)\n",
        "  plt.scatter(x.view(1,10),data)\n",
        "  plt.ylim(0,1)\n",
        "  plt.show"
      ],
      "execution_count": 0,
      "outputs": []
    },
    {
      "cell_type": "code",
      "metadata": {
        "id": "9-VZql2YAGav",
        "colab_type": "code",
        "outputId": "88516536-bd3b-4261-ba60-ee17c192f83b",
        "colab": {
          "base_uri": "https://localhost:8080/",
          "height": 298
        }
      },
      "source": [
        "number=294\n",
        "plt.imshow(test_examples_data[number][0])\n",
        "plt.title(test_examples_targets[number])"
      ],
      "execution_count": 0,
      "outputs": [
        {
          "output_type": "execute_result",
          "data": {
            "text/plain": [
              "Text(0.5, 1.0, 'tensor(8)')"
            ]
          },
          "metadata": {
            "tags": []
          },
          "execution_count": 127
        },
        {
          "output_type": "display_data",
          "data": {
            "image/png": "[encoded data removed]",
            "text/plain": [
              "<Figure size 432x288 with 1 Axes>"
            ]
          },
          "metadata": {
            "tags": [],
            "needs_background": "light"
          }
        }
      ]
    },
    {
      "cell_type": "code",
      "metadata": {
        "id": "luakD3FSiv2O",
        "colab_type": "code",
        "outputId": "09e8cc8e-3f9f-4638-dcc6-e271eeb1049a",
        "colab": {
          "base_uri": "https://localhost:8080/",
          "height": 319
        }
      },
      "source": [
        "with torch.no_grad():\n",
        "  output=model(test_examples_data1[number])\n",
        "  output=torch.exp(output)\n",
        "PrintProbOutput(output)"
      ],
      "execution_count": 0,
      "outputs": [
        {
          "output_type": "stream",
          "text": [
            "[[5.8558687e-08 1.4222527e-14 6.5427559e-12 5.7408391e-13 1.0281373e-10\n",
            "  5.9905697e-10 4.3772641e-10 1.7250134e-11 1.0000000e+00 9.7641227e-12]]\n",
            "tensor([0., 1., 2., 3., 4., 5., 6., 7., 8., 9.])\n"
          ],
          "name": "stdout"
        },
        {
          "output_type": "display_data",
          "data": {
            "image/png": "[encoded data removed]",
            "text/plain": [
              "<Figure size 432x288 with 1 Axes>"
            ]
          },
          "metadata": {
            "tags": [],
            "needs_background": "light"
          }
        }
      ]
    },
    {
      "cell_type": "code",
      "metadata": {
        "id": "XRo5k17XAM9Z",
        "colab_type": "code",
        "colab": {}
      },
      "source": [
        "def CalculatedOutput(output):\n",
        "  output=output.numpy()\n",
        "  highest=-1\n",
        "  rank=-1\n",
        "  for i in range(len(output)):\n",
        "    if output[i]>highest:\n",
        "      highest=output[i]\n",
        "      rank=i\n",
        "  return np.array([rank])\n",
        "def Accuracy(calc,exp):\n",
        "  calc_output=np.array([])\n",
        "  for i in range(300):\n",
        "    calc_output=np.append(calc_output,CalculatedOutput(calc[i]))\n",
        "  exp_output=exp.numpy() #Converts into an numpy array\n",
        "  accuracy=100*(np.sum(calc_output==exp_output)/300)\n",
        "  return accuracy"
      ],
      "execution_count": 0,
      "outputs": []
    },
    {
      "cell_type": "code",
      "metadata": {
        "id": "-afw1RkZhKiD",
        "colab_type": "code",
        "outputId": "227f3c54-b39d-4d75-aaf8-38e7cb393d72",
        "colab": {
          "base_uri": "https://localhost:8080/",
          "height": 50
        }
      },
      "source": [
        "batch,(images,labels)=next(enumerate(test_loader))\n",
        "images=images.view(images.shape[0],784)\n",
        "with torch.no_grad():\n",
        "  output1=model1(images)\n",
        "  output1=torch.exp(output1)\n",
        "  output2=model2(images)\n",
        "  output2=torch.exp(output2)\n",
        "print(\"Accuracy of model1 (without dropout)\",Accuracy(output1,labels))\n",
        "print(\"Accuracy of model2 (with dropout)\",Accuracy(output2,labels))"
      ],
      "execution_count": 0,
      "outputs": [
        {
          "output_type": "stream",
          "text": [
            "Accuracy of model1 (without dropout) 92.0\n",
            "Accuracy of model2 (with dropout) 90.0\n"
          ],
          "name": "stdout"
        }
      ]
    },
    {
      "cell_type": "code",
      "metadata": {
        "id": "Tl-O5xQR3Tfu",
        "colab_type": "code",
        "colab": {}
      },
      "source": [
        ""
      ],
      "execution_count": 0,
      "outputs": []
    }
  ]
}